{
 "cells": [
  {
   "cell_type": "code",
   "execution_count": 1,
   "metadata": {
    "id": "Pnj1tGXPMhf3"
   },
   "outputs": [],
   "source": [
    "import pandas as pd\n",
    "import numpy as np\n",
    "import matplotlib.pyplot as plt\n",
    "import seaborn as sns"
   ]
  },
  {
   "cell_type": "code",
   "execution_count": 3,
   "metadata": {
    "colab": {
     "base_uri": "https://localhost:8080/",
     "height": 206
    },
    "id": "a_adAGdAM808",
    "outputId": "c48b0ea5-a992-4adb-8928-ba4bac8f12cf"
   },
   "outputs": [
    {
     "data": {
      "text/html": [
       "<div>\n",
       "<style scoped>\n",
       "    .dataframe tbody tr th:only-of-type {\n",
       "        vertical-align: middle;\n",
       "    }\n",
       "\n",
       "    .dataframe tbody tr th {\n",
       "        vertical-align: top;\n",
       "    }\n",
       "\n",
       "    .dataframe thead th {\n",
       "        text-align: right;\n",
       "    }\n",
       "</style>\n",
       "<table border=\"1\" class=\"dataframe\">\n",
       "  <thead>\n",
       "    <tr style=\"text-align: right;\">\n",
       "      <th></th>\n",
       "      <th>Product</th>\n",
       "      <th>complaint_what_happened</th>\n",
       "    </tr>\n",
       "  </thead>\n",
       "  <tbody>\n",
       "    <tr>\n",
       "      <th>0</th>\n",
       "      <td>Debt collection</td>\n",
       "      <td>good morning name xxxx xxxx appreciate could h...</td>\n",
       "    </tr>\n",
       "    <tr>\n",
       "      <th>1</th>\n",
       "      <td>Credit card or prepaid card</td>\n",
       "      <td>upgraded xxxx xxxx card told agent upgrade ann...</td>\n",
       "    </tr>\n",
       "    <tr>\n",
       "      <th>2</th>\n",
       "      <td>Credit reporting, credit repair services, or o...</td>\n",
       "      <td>chase card reported however fraudulent applica...</td>\n",
       "    </tr>\n",
       "    <tr>\n",
       "      <th>3</th>\n",
       "      <td>Credit reporting, credit repair services, or o...</td>\n",
       "      <td>while trying book xxxx xxxx ticket came across...</td>\n",
       "    </tr>\n",
       "    <tr>\n",
       "      <th>4</th>\n",
       "      <td>Checking or savings account</td>\n",
       "      <td>grand give check deposit into chase account af...</td>\n",
       "    </tr>\n",
       "  </tbody>\n",
       "</table>\n",
       "</div>"
      ],
      "text/plain": [
       "                                             Product  \\\n",
       "0                                    Debt collection   \n",
       "1                        Credit card or prepaid card   \n",
       "2  Credit reporting, credit repair services, or o...   \n",
       "3  Credit reporting, credit repair services, or o...   \n",
       "4                        Checking or savings account   \n",
       "\n",
       "                             complaint_what_happened  \n",
       "0  good morning name xxxx xxxx appreciate could h...  \n",
       "1  upgraded xxxx xxxx card told agent upgrade ann...  \n",
       "2  chase card reported however fraudulent applica...  \n",
       "3  while trying book xxxx xxxx ticket came across...  \n",
       "4  grand give check deposit into chase account af...  "
      ]
     },
     "execution_count": 3,
     "metadata": {},
     "output_type": "execute_result"
    }
   ],
   "source": [
    "data = pd.read_csv('new_sample_data.csv', encoding = \"ISO-8859-1\")\n",
    "data.head()"
   ]
  },
  {
   "cell_type": "code",
   "execution_count": 4,
   "metadata": {
    "colab": {
     "base_uri": "https://localhost:8080/"
    },
    "id": "wI-RxsE0Rb_i",
    "outputId": "6d04be94-3283-40d5-9ccb-fb829d3a2d60"
   },
   "outputs": [
    {
     "data": {
      "text/plain": [
       "Credit card or prepaid card                                                     5039\n",
       "Checking or savings account                                                     4290\n",
       "Mortgage                                                                        3246\n",
       "Credit reporting, credit repair services, or other personal consumer reports    2087\n",
       "Credit card                                                                     2070\n",
       "Bank account or service                                                         1650\n",
       "Debt collection                                                                  955\n",
       "Money transfer, virtual currency, or money service                               797\n",
       "Vehicle loan or lease                                                            403\n",
       "Consumer Loan                                                                    240\n",
       "Student loan                                                                     140\n",
       "Money transfers                                                                   56\n",
       "Payday loan, title loan, or personal loan                                         44\n",
       "Credit reporting                                                                  38\n",
       "Other financial service                                                            9\n",
       "Prepaid card                                                                       7\n",
       "Name: Product, dtype: int64"
      ]
     },
     "execution_count": 4,
     "metadata": {},
     "output_type": "execute_result"
    }
   ],
   "source": [
    "data['Product'].value_counts()"
   ]
  },
  {
   "cell_type": "code",
   "execution_count": 6,
   "metadata": {
    "colab": {
     "base_uri": "https://localhost:8080/",
     "height": 643
    },
    "id": "0N9FtUSrNwy6",
    "outputId": "54ed8ef1-96e1-4faf-946a-f8c1b65699b6"
   },
   "outputs": [
    {
     "data": {
      "image/png": "[encoded data removed]",
      "text/plain": [
       "<Figure size 640x480 with 1 Axes>"
      ]
     },
     "metadata": {},
     "output_type": "display_data"
    }
   ],
   "source": [
    "data.groupby('Product').complaint_what_happened.count().plot.bar()\n",
    "plt.show()"
   ]
  },
  {
   "cell_type": "code",
   "execution_count": 7,
   "metadata": {
    "colab": {
     "base_uri": "https://localhost:8080/",
     "height": 424
    },
    "id": "IJCJyUKON5Sn",
    "outputId": "5f283c30-8fef-4875-86e9-0438a4467597"
   },
   "outputs": [
    {
     "data": {
      "text/html": [
       "<div>\n",
       "<style scoped>\n",
       "    .dataframe tbody tr th:only-of-type {\n",
       "        vertical-align: middle;\n",
       "    }\n",
       "\n",
       "    .dataframe tbody tr th {\n",
       "        vertical-align: top;\n",
       "    }\n",
       "\n",
       "    .dataframe thead th {\n",
       "        text-align: right;\n",
       "    }\n",
       "</style>\n",
       "<table border=\"1\" class=\"dataframe\">\n",
       "  <thead>\n",
       "    <tr style=\"text-align: right;\">\n",
       "      <th></th>\n",
       "      <th>Product</th>\n",
       "      <th>complaint_what_happened</th>\n",
       "    </tr>\n",
       "  </thead>\n",
       "  <tbody>\n",
       "    <tr>\n",
       "      <th>5147</th>\n",
       "      <td>Bank account or service</td>\n",
       "      <td>received letters from chase after recent revie...</td>\n",
       "    </tr>\n",
       "    <tr>\n",
       "      <th>18411</th>\n",
       "      <td>Bank account or service</td>\n",
       "      <td>writing about chase bank refusal return that d...</td>\n",
       "    </tr>\n",
       "    <tr>\n",
       "      <th>18408</th>\n",
       "      <td>Bank account or service</td>\n",
       "      <td>obtained safe deposit chase bank appx xxxx cha...</td>\n",
       "    </tr>\n",
       "    <tr>\n",
       "      <th>18404</th>\n",
       "      <td>Bank account or service</td>\n",
       "      <td>have several accounts with morgan chase receiv...</td>\n",
       "    </tr>\n",
       "    <tr>\n",
       "      <th>18403</th>\n",
       "      <td>Bank account or service</td>\n",
       "      <td>opened account case about then after months th...</td>\n",
       "    </tr>\n",
       "    <tr>\n",
       "      <th>...</th>\n",
       "      <td>...</td>\n",
       "      <td>...</td>\n",
       "    </tr>\n",
       "    <tr>\n",
       "      <th>343</th>\n",
       "      <td>Vehicle loan or lease</td>\n",
       "      <td>xxxx negotiated second lease with xxxx xxxx xx...</td>\n",
       "    </tr>\n",
       "    <tr>\n",
       "      <th>7251</th>\n",
       "      <td>Vehicle loan or lease</td>\n",
       "      <td>credit account doesn belong report number jpmc...</td>\n",
       "    </tr>\n",
       "    <tr>\n",
       "      <th>7789</th>\n",
       "      <td>Vehicle loan or lease</td>\n",
       "      <td>started auto loan with xxxx xxxx xxxx xxxx xxx...</td>\n",
       "    </tr>\n",
       "    <tr>\n",
       "      <th>6412</th>\n",
       "      <td>Vehicle loan or lease</td>\n",
       "      <td>chase bank lost refinance check refinancing lo...</td>\n",
       "    </tr>\n",
       "    <tr>\n",
       "      <th>1112</th>\n",
       "      <td>Vehicle loan or lease</td>\n",
       "      <td>leased xxxx xxxx xxxx returned automobile xxxx...</td>\n",
       "    </tr>\n",
       "  </tbody>\n",
       "</table>\n",
       "<p>21071 rows × 2 columns</p>\n",
       "</div>"
      ],
      "text/plain": [
       "                       Product  \\\n",
       "5147   Bank account or service   \n",
       "18411  Bank account or service   \n",
       "18408  Bank account or service   \n",
       "18404  Bank account or service   \n",
       "18403  Bank account or service   \n",
       "...                        ...   \n",
       "343      Vehicle loan or lease   \n",
       "7251     Vehicle loan or lease   \n",
       "7789     Vehicle loan or lease   \n",
       "6412     Vehicle loan or lease   \n",
       "1112     Vehicle loan or lease   \n",
       "\n",
       "                                 complaint_what_happened  \n",
       "5147   received letters from chase after recent revie...  \n",
       "18411  writing about chase bank refusal return that d...  \n",
       "18408  obtained safe deposit chase bank appx xxxx cha...  \n",
       "18404  have several accounts with morgan chase receiv...  \n",
       "18403  opened account case about then after months th...  \n",
       "...                                                  ...  \n",
       "343    xxxx negotiated second lease with xxxx xxxx xx...  \n",
       "7251   credit account doesn belong report number jpmc...  \n",
       "7789   started auto loan with xxxx xxxx xxxx xxxx xxx...  \n",
       "6412   chase bank lost refinance check refinancing lo...  \n",
       "1112   leased xxxx xxxx xxxx returned automobile xxxx...  \n",
       "\n",
       "[21071 rows x 2 columns]"
      ]
     },
     "execution_count": 7,
     "metadata": {},
     "output_type": "execute_result"
    }
   ],
   "source": [
    "data = data.sort_values(['Product'])\n",
    "data"
   ]
  },
  {
   "cell_type": "code",
   "execution_count": 8,
   "metadata": {
    "colab": {
     "base_uri": "https://localhost:8080/",
     "height": 424
    },
    "id": "wb5I3y7GOPbn",
    "outputId": "f5fbb374-1632-4da8-ae1c-fbec9462b5b3"
   },
   "outputs": [
    {
     "data": {
      "text/html": [
       "<div>\n",
       "<style scoped>\n",
       "    .dataframe tbody tr th:only-of-type {\n",
       "        vertical-align: middle;\n",
       "    }\n",
       "\n",
       "    .dataframe tbody tr th {\n",
       "        vertical-align: top;\n",
       "    }\n",
       "\n",
       "    .dataframe thead th {\n",
       "        text-align: right;\n",
       "    }\n",
       "</style>\n",
       "<table border=\"1\" class=\"dataframe\">\n",
       "  <thead>\n",
       "    <tr style=\"text-align: right;\">\n",
       "      <th></th>\n",
       "      <th>Product</th>\n",
       "      <th>complaint_what_happened</th>\n",
       "      <th>Product_no</th>\n",
       "    </tr>\n",
       "  </thead>\n",
       "  <tbody>\n",
       "    <tr>\n",
       "      <th>5147</th>\n",
       "      <td>Bank account or service</td>\n",
       "      <td>received letters from chase after recent revie...</td>\n",
       "      <td>0</td>\n",
       "    </tr>\n",
       "    <tr>\n",
       "      <th>18411</th>\n",
       "      <td>Bank account or service</td>\n",
       "      <td>writing about chase bank refusal return that d...</td>\n",
       "      <td>0</td>\n",
       "    </tr>\n",
       "    <tr>\n",
       "      <th>18408</th>\n",
       "      <td>Bank account or service</td>\n",
       "      <td>obtained safe deposit chase bank appx xxxx cha...</td>\n",
       "      <td>0</td>\n",
       "    </tr>\n",
       "    <tr>\n",
       "      <th>18404</th>\n",
       "      <td>Bank account or service</td>\n",
       "      <td>have several accounts with morgan chase receiv...</td>\n",
       "      <td>0</td>\n",
       "    </tr>\n",
       "    <tr>\n",
       "      <th>18403</th>\n",
       "      <td>Bank account or service</td>\n",
       "      <td>opened account case about then after months th...</td>\n",
       "      <td>0</td>\n",
       "    </tr>\n",
       "    <tr>\n",
       "      <th>...</th>\n",
       "      <td>...</td>\n",
       "      <td>...</td>\n",
       "      <td>...</td>\n",
       "    </tr>\n",
       "    <tr>\n",
       "      <th>343</th>\n",
       "      <td>Vehicle loan or lease</td>\n",
       "      <td>xxxx negotiated second lease with xxxx xxxx xx...</td>\n",
       "      <td>15</td>\n",
       "    </tr>\n",
       "    <tr>\n",
       "      <th>7251</th>\n",
       "      <td>Vehicle loan or lease</td>\n",
       "      <td>credit account doesn belong report number jpmc...</td>\n",
       "      <td>15</td>\n",
       "    </tr>\n",
       "    <tr>\n",
       "      <th>7789</th>\n",
       "      <td>Vehicle loan or lease</td>\n",
       "      <td>started auto loan with xxxx xxxx xxxx xxxx xxx...</td>\n",
       "      <td>15</td>\n",
       "    </tr>\n",
       "    <tr>\n",
       "      <th>6412</th>\n",
       "      <td>Vehicle loan or lease</td>\n",
       "      <td>chase bank lost refinance check refinancing lo...</td>\n",
       "      <td>15</td>\n",
       "    </tr>\n",
       "    <tr>\n",
       "      <th>1112</th>\n",
       "      <td>Vehicle loan or lease</td>\n",
       "      <td>leased xxxx xxxx xxxx returned automobile xxxx...</td>\n",
       "      <td>15</td>\n",
       "    </tr>\n",
       "  </tbody>\n",
       "</table>\n",
       "<p>21071 rows × 3 columns</p>\n",
       "</div>"
      ],
      "text/plain": [
       "                       Product  \\\n",
       "5147   Bank account or service   \n",
       "18411  Bank account or service   \n",
       "18408  Bank account or service   \n",
       "18404  Bank account or service   \n",
       "18403  Bank account or service   \n",
       "...                        ...   \n",
       "343      Vehicle loan or lease   \n",
       "7251     Vehicle loan or lease   \n",
       "7789     Vehicle loan or lease   \n",
       "6412     Vehicle loan or lease   \n",
       "1112     Vehicle loan or lease   \n",
       "\n",
       "                                 complaint_what_happened  Product_no  \n",
       "5147   received letters from chase after recent revie...           0  \n",
       "18411  writing about chase bank refusal return that d...           0  \n",
       "18408  obtained safe deposit chase bank appx xxxx cha...           0  \n",
       "18404  have several accounts with morgan chase receiv...           0  \n",
       "18403  opened account case about then after months th...           0  \n",
       "...                                                  ...         ...  \n",
       "343    xxxx negotiated second lease with xxxx xxxx xx...          15  \n",
       "7251   credit account doesn belong report number jpmc...          15  \n",
       "7789   started auto loan with xxxx xxxx xxxx xxxx xxx...          15  \n",
       "6412   chase bank lost refinance check refinancing lo...          15  \n",
       "1112   leased xxxx xxxx xxxx returned automobile xxxx...          15  \n",
       "\n",
       "[21071 rows x 3 columns]"
      ]
     },
     "execution_count": 8,
     "metadata": {},
     "output_type": "execute_result"
    }
   ],
   "source": [
    "data['Product_no'] = data['Product'].factorize()[0]\n",
    "data"
   ]
  },
  {
   "cell_type": "code",
   "execution_count": 9,
   "metadata": {
    "colab": {
     "base_uri": "https://localhost:8080/"
    },
    "id": "_vDIkZekOW-o",
    "outputId": "161f063c-4cc4-49c4-c1c1-c22fc3e8b35b"
   },
   "outputs": [
    {
     "data": {
      "text/plain": [
       "5147     received letters from chase after recent revie...\n",
       "18411    writing about chase bank refusal return that d...\n",
       "18408    obtained safe deposit chase bank appx xxxx cha...\n",
       "18404    have several accounts with morgan chase receiv...\n",
       "18403    opened account case about then after months th...\n",
       "                               ...                        \n",
       "343      xxxx negotiated second lease with xxxx xxxx xx...\n",
       "7251     credit account doesn belong report number jpmc...\n",
       "7789     started auto loan with xxxx xxxx xxxx xxxx xxx...\n",
       "6412     chase bank lost refinance check refinancing lo...\n",
       "1112     leased xxxx xxxx xxxx returned automobile xxxx...\n",
       "Name: complaint_what_happened, Length: 21071, dtype: object"
      ]
     },
     "execution_count": 9,
     "metadata": {},
     "output_type": "execute_result"
    }
   ],
   "source": [
    "x = data['complaint_what_happened']\n",
    "x"
   ]
  },
  {
   "cell_type": "code",
   "execution_count": 10,
   "metadata": {
    "colab": {
     "base_uri": "https://localhost:8080/"
    },
    "id": "B5ln1imlOcd2",
    "outputId": "3f8a1b89-b9b0-4413-a343-77b59a6f1207"
   },
   "outputs": [
    {
     "data": {
      "text/plain": [
       "5147     Bank account or service\n",
       "18411    Bank account or service\n",
       "18408    Bank account or service\n",
       "18404    Bank account or service\n",
       "18403    Bank account or service\n",
       "                  ...           \n",
       "343        Vehicle loan or lease\n",
       "7251       Vehicle loan or lease\n",
       "7789       Vehicle loan or lease\n",
       "6412       Vehicle loan or lease\n",
       "1112       Vehicle loan or lease\n",
       "Name: Product, Length: 21071, dtype: object"
      ]
     },
     "execution_count": 10,
     "metadata": {},
     "output_type": "execute_result"
    }
   ],
   "source": [
    "y = data['Product']\n",
    "y"
   ]
  },
  {
   "cell_type": "code",
   "execution_count": 11,
   "metadata": {
    "id": "5HSThomlOe9n"
   },
   "outputs": [],
   "source": [
    "from sklearn.model_selection import train_test_split\n",
    "x_train, x_test, y_train, y_test = train_test_split(x, y, test_size=0.25)"
   ]
  },
  {
   "cell_type": "code",
   "execution_count": 13,
   "metadata": {
    "id": "YE_4HYrEOjv3"
   },
   "outputs": [],
   "source": [
    "from sklearn.feature_extraction.text import TfidfVectorizer\n",
    "vectorization = TfidfVectorizer()\n",
    "vector = vectorization.fit(x_train)\n",
    "xv_train = vector.transform(x_train)\n",
    "xv_test = vectorization.transform(x_test)"
   ]
  },
  {
   "cell_type": "code",
   "execution_count": 14,
   "metadata": {
    "colab": {
     "base_uri": "https://localhost:8080/"
    },
    "id": "KFopNevZOnKX",
    "outputId": "a583649e-e29e-4657-dda0-281facd32c97"
   },
   "outputs": [
    {
     "data": {
      "text/plain": [
       "<15803x23015 sparse matrix of type '<class 'numpy.float64'>'\n",
       "\twith 1290035 stored elements in Compressed Sparse Row format>"
      ]
     },
     "execution_count": 14,
     "metadata": {},
     "output_type": "execute_result"
    }
   ],
   "source": [
    "xv_train"
   ]
  },
  {
   "cell_type": "code",
   "execution_count": 15,
   "metadata": {
    "colab": {
     "base_uri": "https://localhost:8080/"
    },
    "id": "CZRjf9-mOqbG",
    "outputId": "fab3e69a-4bfd-4fc8-bf44-8cd59f004f8e"
   },
   "outputs": [
    {
     "data": {
      "text/plain": [
       "<5268x23015 sparse matrix of type '<class 'numpy.float64'>'\n",
       "\twith 428740 stored elements in Compressed Sparse Row format>"
      ]
     },
     "execution_count": 15,
     "metadata": {},
     "output_type": "execute_result"
    }
   ],
   "source": [
    "xv_test"
   ]
  },
  {
   "cell_type": "markdown",
   "metadata": {
    "id": "1WFbW8XQOwN4"
   },
   "source": [
    "Logistic Regression"
   ]
  },
  {
   "cell_type": "code",
   "execution_count": 18,
   "metadata": {
    "colab": {
     "base_uri": "https://localhost:8080/"
    },
    "id": "uRafvr7NOsiH",
    "outputId": "207d00b8-abe3-4088-dc5b-b31b64ccdc94"
   },
   "outputs": [],
   "source": [
    "from sklearn.linear_model import LogisticRegression\n",
    "LR = LogisticRegression()\n"
   ]
  },
  {
   "cell_type": "code",
   "execution_count": 19,
   "metadata": {},
   "outputs": [
    {
     "name": "stderr",
     "output_type": "stream",
     "text": [
      "C:\\Users\\mma\\AppData\\Roaming\\Python\\Python39\\site-packages\\sklearn\\linear_model\\_logistic.py:458: ConvergenceWarning: lbfgs failed to converge (status=1):\n",
      "STOP: TOTAL NO. of ITERATIONS REACHED LIMIT.\n",
      "\n",
      "Increase the number of iterations (max_iter) or scale the data as shown in:\n",
      "    https://scikit-learn.org/stable/modules/preprocessing.html\n",
      "Please also refer to the documentation for alternative solver options:\n",
      "    https://scikit-learn.org/stable/modules/linear_model.html#logistic-regression\n",
      "  n_iter_i = _check_optimize_result(\n"
     ]
    }
   ],
   "source": [
    "LR = LR.fit(xv_train,y_train)"
   ]
  },
  {
   "cell_type": "code",
   "execution_count": 20,
   "metadata": {
    "colab": {
     "base_uri": "https://localhost:8080/"
    },
    "id": "59SN_IWVO0L3",
    "outputId": "2db734b6-ee73-4e33-89bd-cf095606bdad"
   },
   "outputs": [
    {
     "data": {
      "text/plain": [
       "0.6507213363705391"
      ]
     },
     "execution_count": 20,
     "metadata": {},
     "output_type": "execute_result"
    }
   ],
   "source": [
    "pred_lr=LR.predict(xv_test)\n",
    "LR.score(xv_test, y_test)"
   ]
  },
  {
   "cell_type": "code",
   "execution_count": 21,
   "metadata": {
    "colab": {
     "base_uri": "https://localhost:8080/"
    },
    "id": "LxUHWSYYPu98",
    "outputId": "c2c97167-4172-4683-c38a-adadd07a0c44"
   },
   "outputs": [
    {
     "name": "stderr",
     "output_type": "stream",
     "text": [
      "C:\\Users\\mma\\AppData\\Roaming\\Python\\Python39\\site-packages\\sklearn\\metrics\\_classification.py:1344: UndefinedMetricWarning: Precision and F-score are ill-defined and being set to 0.0 in labels with no predicted samples. Use `zero_division` parameter to control this behavior.\n",
      "  _warn_prf(average, modifier, msg_start, len(result))\n"
     ]
    },
    {
     "name": "stdout",
     "output_type": "stream",
     "text": [
      "                                                                              precision    recall  f1-score   support\n",
      "\n",
      "                                                     Bank account or service       0.41      0.09      0.14       423\n",
      "                                                 Checking or savings account       0.63      0.84      0.72      1101\n",
      "                                                               Consumer Loan       0.57      0.08      0.13        53\n",
      "                                                                 Credit card       0.48      0.18      0.26       519\n",
      "                                                 Credit card or prepaid card       0.62      0.83      0.71      1266\n",
      "                                                            Credit reporting       0.00      0.00      0.00         9\n",
      "Credit reporting, credit repair services, or other personal consumer reports       0.64      0.64      0.64       519\n",
      "                                                             Debt collection       0.64      0.46      0.53       246\n",
      "                          Money transfer, virtual currency, or money service       0.72      0.49      0.58       197\n",
      "                                                             Money transfers       0.00      0.00      0.00        15\n",
      "                                                                    Mortgage       0.82      0.94      0.87       777\n",
      "                                                     Other financial service       0.00      0.00      0.00         3\n",
      "                                   Payday loan, title loan, or personal loan       0.00      0.00      0.00        11\n",
      "                                                                Prepaid card       0.00      0.00      0.00         2\n",
      "                                                                Student loan       0.82      0.26      0.40        34\n",
      "                                                       Vehicle loan or lease       0.51      0.41      0.46        93\n",
      "\n",
      "                                                                    accuracy                           0.65      5268\n",
      "                                                                   macro avg       0.43      0.33      0.34      5268\n",
      "                                                                weighted avg       0.62      0.65      0.61      5268\n",
      "\n"
     ]
    },
    {
     "name": "stderr",
     "output_type": "stream",
     "text": [
      "C:\\Users\\mma\\AppData\\Roaming\\Python\\Python39\\site-packages\\sklearn\\metrics\\_classification.py:1344: UndefinedMetricWarning: Precision and F-score are ill-defined and being set to 0.0 in labels with no predicted samples. Use `zero_division` parameter to control this behavior.\n",
      "  _warn_prf(average, modifier, msg_start, len(result))\n",
      "C:\\Users\\mma\\AppData\\Roaming\\Python\\Python39\\site-packages\\sklearn\\metrics\\_classification.py:1344: UndefinedMetricWarning: Precision and F-score are ill-defined and being set to 0.0 in labels with no predicted samples. Use `zero_division` parameter to control this behavior.\n",
      "  _warn_prf(average, modifier, msg_start, len(result))\n"
     ]
    }
   ],
   "source": [
    "from sklearn.metrics import confusion_matrix, classification_report\n",
    "print(classification_report(y_test, pred_lr))"
   ]
  },
  {
   "cell_type": "markdown",
   "metadata": {
    "id": "MbzLv8AnPa1L"
   },
   "source": [
    "Decision tree classifier"
   ]
  },
  {
   "cell_type": "code",
   "execution_count": null,
   "metadata": {
    "colab": {
     "base_uri": "https://localhost:8080/"
    },
    "id": "soqCZbkTO-5m",
    "outputId": "89c5477d-c41d-49f9-f741-a9c38428cb52"
   },
   "outputs": [
    {
     "data": {
      "text/plain": [
       "DecisionTreeClassifier()"
      ]
     },
     "execution_count": 18,
     "metadata": {},
     "output_type": "execute_result"
    }
   ],
   "source": [
    "from sklearn.tree import DecisionTreeClassifier\n",
    "\n",
    "DT = DecisionTreeClassifier()\n",
    "DT.fit(xv_train, y_train)"
   ]
  },
  {
   "cell_type": "code",
   "execution_count": null,
   "metadata": {
    "colab": {
     "base_uri": "https://localhost:8080/"
    },
    "id": "Ke7IyRzVPhhH",
    "outputId": "a898c983-77b1-4065-e69c-51290b8123d7"
   },
   "outputs": [
    {
     "data": {
      "text/plain": [
       "0.49411541381928625"
      ]
     },
     "execution_count": 19,
     "metadata": {},
     "output_type": "execute_result"
    }
   ],
   "source": [
    "pred_dt = DT.predict(xv_test)\n",
    "DT.score(xv_test, y_test)"
   ]
  },
  {
   "cell_type": "code",
   "execution_count": null,
   "metadata": {
    "colab": {
     "base_uri": "https://localhost:8080/"
    },
    "id": "EO3pGtPIPyid",
    "outputId": "3ec90ff2-c441-4ffc-9f3d-d8b383131448"
   },
   "outputs": [
    {
     "name": "stdout",
     "output_type": "stream",
     "text": [
      "                                                                              precision    recall  f1-score   support\n",
      "\n",
      "                                                     Bank account or service       0.23      0.21      0.22       415\n",
      "                                                 Checking or savings account       0.53      0.54      0.54      1035\n",
      "                                                               Consumer Loan       0.19      0.17      0.18        65\n",
      "                                                                 Credit card       0.26      0.26      0.26       503\n",
      "                                                 Credit card or prepaid card       0.56      0.57      0.56      1281\n",
      "                                                            Credit reporting       0.00      0.00      0.00         9\n",
      "Credit reporting, credit repair services, or other personal consumer reports       0.47      0.46      0.46       534\n",
      "                                                             Debt collection       0.38      0.38      0.38       244\n",
      "                          Money transfer, virtual currency, or money service       0.30      0.32      0.31       211\n",
      "                                                             Money transfers       0.08      0.09      0.09        11\n",
      "                                                                    Mortgage       0.79      0.76      0.78       819\n",
      "                                                     Other financial service       0.00      0.00      0.00         6\n",
      "                                   Payday loan, title loan, or personal loan       0.07      0.17      0.10         6\n",
      "                                                                Prepaid card       0.00      0.00      0.00         2\n",
      "                                                                Student loan       0.56      0.36      0.44        39\n",
      "                                                       Vehicle loan or lease       0.30      0.36      0.33        88\n",
      "\n",
      "                                                                    accuracy                           0.49      5268\n",
      "                                                                   macro avg       0.30      0.29      0.29      5268\n",
      "                                                                weighted avg       0.49      0.49      0.49      5268\n",
      "\n"
     ]
    },
    {
     "name": "stderr",
     "output_type": "stream",
     "text": [
      "/usr/local/lib/python3.8/dist-packages/sklearn/metrics/_classification.py:1318: UndefinedMetricWarning: Precision and F-score are ill-defined and being set to 0.0 in labels with no predicted samples. Use `zero_division` parameter to control this behavior.\n",
      "  _warn_prf(average, modifier, msg_start, len(result))\n",
      "/usr/local/lib/python3.8/dist-packages/sklearn/metrics/_classification.py:1318: UndefinedMetricWarning: Precision and F-score are ill-defined and being set to 0.0 in labels with no predicted samples. Use `zero_division` parameter to control this behavior.\n",
      "  _warn_prf(average, modifier, msg_start, len(result))\n",
      "/usr/local/lib/python3.8/dist-packages/sklearn/metrics/_classification.py:1318: UndefinedMetricWarning: Precision and F-score are ill-defined and being set to 0.0 in labels with no predicted samples. Use `zero_division` parameter to control this behavior.\n",
      "  _warn_prf(average, modifier, msg_start, len(result))\n"
     ]
    }
   ],
   "source": [
    "print(classification_report(y_test, pred_dt))"
   ]
  },
  {
   "cell_type": "markdown",
   "metadata": {
    "id": "aKz5TsNBQEpQ"
   },
   "source": [
    "Random forest classfier"
   ]
  },
  {
   "cell_type": "code",
   "execution_count": null,
   "metadata": {
    "colab": {
     "base_uri": "https://localhost:8080/"
    },
    "id": "9bYW3xPOP4hG",
    "outputId": "fa39dd46-4b04-4607-a356-c2a5b64c5c52"
   },
   "outputs": [
    {
     "data": {
      "text/plain": [
       "RandomForestClassifier(random_state=0)"
      ]
     },
     "execution_count": 21,
     "metadata": {},
     "output_type": "execute_result"
    }
   ],
   "source": [
    "from sklearn.ensemble import RandomForestClassifier\n",
    "\n",
    "RFC = RandomForestClassifier(random_state=0)\n",
    "RFC.fit(xv_train, y_train)"
   ]
  },
  {
   "cell_type": "code",
   "execution_count": null,
   "metadata": {
    "colab": {
     "base_uri": "https://localhost:8080/"
    },
    "id": "AQjRK9ayQKl2",
    "outputId": "e62a6182-ef72-4466-cbc0-ce08da5beb7e"
   },
   "outputs": [
    {
     "data": {
      "text/plain": [
       "0.615793470007593"
      ]
     },
     "execution_count": 22,
     "metadata": {},
     "output_type": "execute_result"
    }
   ],
   "source": [
    "pred_rfc = RFC.predict(xv_test)\n",
    "RFC.score(xv_test, y_test)"
   ]
  },
  {
   "cell_type": "code",
   "execution_count": null,
   "metadata": {
    "colab": {
     "base_uri": "https://localhost:8080/"
    },
    "id": "CAGE9qipQaZA",
    "outputId": "b4c151e3-2910-41fc-f421-43f70d45e22c"
   },
   "outputs": [
    {
     "name": "stdout",
     "output_type": "stream",
     "text": [
      "                                                                              precision    recall  f1-score   support\n",
      "\n",
      "                                                     Bank account or service       0.80      0.01      0.02       415\n",
      "                                                 Checking or savings account       0.55      0.90      0.68      1035\n",
      "                                                               Consumer Loan       1.00      0.03      0.06        65\n",
      "                                                                 Credit card       0.38      0.01      0.02       503\n",
      "                                                 Credit card or prepaid card       0.57      0.89      0.70      1281\n",
      "                                                            Credit reporting       0.00      0.00      0.00         9\n",
      "Credit reporting, credit repair services, or other personal consumer reports       0.63      0.60      0.62       534\n",
      "                                                             Debt collection       0.85      0.25      0.39       244\n",
      "                          Money transfer, virtual currency, or money service       0.88      0.07      0.12       211\n",
      "                                                             Money transfers       0.00      0.00      0.00        11\n",
      "                                                                    Mortgage       0.79      0.94      0.86       819\n",
      "                                                     Other financial service       0.00      0.00      0.00         6\n",
      "                                   Payday loan, title loan, or personal loan       0.00      0.00      0.00         6\n",
      "                                                                Prepaid card       0.00      0.00      0.00         2\n",
      "                                                                Student loan       0.00      0.00      0.00        39\n",
      "                                                       Vehicle loan or lease       1.00      0.07      0.13        88\n",
      "\n",
      "                                                                    accuracy                           0.62      5268\n",
      "                                                                   macro avg       0.47      0.23      0.22      5268\n",
      "                                                                weighted avg       0.64      0.62      0.53      5268\n",
      "\n"
     ]
    },
    {
     "name": "stderr",
     "output_type": "stream",
     "text": [
      "/usr/local/lib/python3.8/dist-packages/sklearn/metrics/_classification.py:1318: UndefinedMetricWarning: Precision and F-score are ill-defined and being set to 0.0 in labels with no predicted samples. Use `zero_division` parameter to control this behavior.\n",
      "  _warn_prf(average, modifier, msg_start, len(result))\n",
      "/usr/local/lib/python3.8/dist-packages/sklearn/metrics/_classification.py:1318: UndefinedMetricWarning: Precision and F-score are ill-defined and being set to 0.0 in labels with no predicted samples. Use `zero_division` parameter to control this behavior.\n",
      "  _warn_prf(average, modifier, msg_start, len(result))\n",
      "/usr/local/lib/python3.8/dist-packages/sklearn/metrics/_classification.py:1318: UndefinedMetricWarning: Precision and F-score are ill-defined and being set to 0.0 in labels with no predicted samples. Use `zero_division` parameter to control this behavior.\n",
      "  _warn_prf(average, modifier, msg_start, len(result))\n"
     ]
    }
   ],
   "source": [
    "print(classification_report(y_test, pred_rfc))"
   ]
  },
  {
   "cell_type": "markdown",
   "metadata": {
    "id": "DbQNsELNQdLv"
   },
   "source": [
    "Logistic regression has the best accuracy among other 2 models (66%)"
   ]
  },
  {
   "cell_type": "markdown",
   "metadata": {
    "id": "nsx11mF-Qqcn"
   },
   "source": [
    "Confusion matrix"
   ]
  },
  {
   "cell_type": "code",
   "execution_count": null,
   "metadata": {
    "id": "BrbbJwmKQbAm"
   },
   "outputs": [],
   "source": [
    "def show_confusion_matrix(confusion_matrix):\n",
    "  hmap = sns.heatmap(confusion_matrix, annot=True, fmt='d', cmap='Blues')\n",
    "  hmap.yaxis.set_ticklabels(hmap.yaxis.get_ticklabels(), rotation=0, ha='right')\n",
    "  hmap.xaxis.set_ticklabels(hmap.xaxis.get_ticklabels(), rotation=0, ha='right')\n",
    "  plt.ylabel('Truth')\n",
    "  plt.xlabel('Predicted')"
   ]
  },
  {
   "cell_type": "code",
   "execution_count": null,
   "metadata": {
    "colab": {
     "base_uri": "https://localhost:8080/",
     "height": 279
    },
    "id": "h_WAJT_KRFk1",
    "outputId": "08713884-8073-4d36-db9f-abd89fc8bd88"
   },
   "outputs": [
    {
     "data": {
      "image/png": "[encoded data removed]",
      "text/plain": [
       "<Figure size 432x288 with 2 Axes>"
      ]
     },
     "metadata": {
      "needs_background": "light"
     },
     "output_type": "display_data"
    }
   ],
   "source": [
    "cm = confusion_matrix(y_test, pred_lr)\n",
    "df_cm = pd.DataFrame(cm)\n",
    "show_confusion_matrix(df_cm)"
   ]
  },
  {
   "cell_type": "markdown",
   "metadata": {
    "id": "_kKtA3k_Rlm-"
   },
   "source": [
    "Testing the model"
   ]
  },
  {
   "cell_type": "code",
   "execution_count": 26,
   "metadata": {
    "id": "GDjw2WC1ROmm"
   },
   "outputs": [],
   "source": [
    "def label_text(text, model, vect):\n",
    "  text = vect.transform([text])\n",
    "  return model.predict(text).flatten()[0]"
   ]
  },
  {
   "cell_type": "code",
   "execution_count": 27,
   "metadata": {
    "colab": {
     "base_uri": "https://localhost:8080/",
     "height": 35
    },
    "id": "9RAlThtFRphW",
    "outputId": "f78d283a-829e-4b1d-8582-396737705a3e"
   },
   "outputs": [
    {
     "data": {
      "text/plain": [
       "'Credit card'"
      ]
     },
     "execution_count": 27,
     "metadata": {},
     "output_type": "execute_result"
    }
   ],
   "source": [
    "text = 'I want to apply for new credit card'\n",
    "label_text(text, LR, vectorization)"
   ]
  },
  {
   "cell_type": "code",
   "execution_count": 22,
   "metadata": {
    "id": "ve_YrtXiRrvG"
   },
   "outputs": [],
   "source": [
    "import pickle\n",
    "with open('final_model.pickle', 'wb')as f:\n",
    "    pickle.dump(LR,f)"
   ]
  },
  {
   "cell_type": "code",
   "execution_count": 23,
   "metadata": {
    "id": "xH6MoG_cTLLn"
   },
   "outputs": [],
   "source": [
    "with open('vect.pickle', 'wb')as f:\n",
    "    pickle.dump(vector,f)"
   ]
  }
 ],
 "metadata": {
  "colab": {
   "provenance": []
  },
  "kernelspec": {
   "display_name": "Python 3 (ipykernel)",
   "language": "python",
   "name": "python3"
  },
  "language_info": {
   "codemirror_mode": {
    "name": "ipython",
    "version": 3
   },
   "file_extension": ".py",
   "mimetype": "text/x-python",
   "name": "python",
   "nbconvert_exporter": "python",
   "pygments_lexer": "ipython3",
   "version": "3.9.13"
  },
  "vscode": {
   "interpreter": {
    "hash": "bf0cf084ad571557cbe9b08a2a1dc3533662330daa21ab2ed14d32b4ad3c8897"
   }
  }
 },
 "nbformat": 4,
 "nbformat_minor": 1
}
